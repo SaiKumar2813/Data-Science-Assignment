{
 "cells": [
  {
   "cell_type": "code",
   "execution_count": 11,
   "id": "507acf97-06af-432b-b4b2-91db77d0efd5",
   "metadata": {},
   "outputs": [
    {
     "name": "stdout",
     "output_type": "stream",
     "text": [
      "\n",
      "Lookalike Results:\n",
      "{'C0001': [{'CustomerID': 'C0097', 'Score': 0.5477225575051661}, {'CustomerID': 'C0194', 'Score': 0.469668218313862}, {'CustomerID': 'C0199', 'Score': 0.4381780460041329}], 'C0002': [{'CustomerID': 'C0091', 'Score': 0.3801987652174059}, {'CustomerID': 'C0030', 'Score': 0.37282185960072}, {'CustomerID': 'C0071', 'Score': 0.329914439536929}], 'C0003': [{'CustomerID': 'C0134', 'Score': 0.5199469468957452}, {'CustomerID': 'C0181', 'Score': 0.5175973113765044}, {'CustomerID': 'C0144', 'Score': 0.39999999999999997}], 'C0004': [{'CustomerID': 'C0070', 'Score': 0.4988876515698588}, {'CustomerID': 'C0132', 'Score': 0.3843075691322091}, {'CustomerID': 'C0063', 'Score': 0.3360672201667223}], 'C0005': [{'CustomerID': 'C0096', 'Score': 0.6482037235521645}, {'CustomerID': 'C0055', 'Score': 0.5144957554275265}, {'CustomerID': 'C0064', 'Score': 0.3328770246548891}], 'C0006': [{'CustomerID': 'C0058', 'Score': 0.6488856845230502}, {'CustomerID': 'C0040', 'Score': 0.5803810000880093}, {'CustomerID': 'C0196', 'Score': 0.4643048000704075}], 'C0007': [{'CustomerID': 'C0020', 'Score': 0.5883484054145521}, {'CustomerID': 'C0079', 'Score': 0.49613893835683387}, {'CustomerID': 'C0026', 'Score': 0.36313651960128146}], 'C0008': [{'CustomerID': 'C0144', 'Score': 0.39223227027636803}, {'CustomerID': 'C0088', 'Score': 0.33968311024337877}, {'CustomerID': 'C0165', 'Score': 0.32144907266094414}], 'C0009': [{'CustomerID': 'C0140', 'Score': 0.560112033611204}, {'CustomerID': 'C0162', 'Score': 0.5132649025747366}, {'CustomerID': 'C0129', 'Score': 0.428845013935118}], 'C0010': [{'CustomerID': 'C0033', 'Score': 0.48666426339228763}, {'CustomerID': 'C0077', 'Score': 0.42479539524287324}, {'CustomerID': 'C0094', 'Score': 0.40590605489504306}], 'C0011': [{'CustomerID': 'C0135', 'Score': 0.4841820261350419}, {'CustomerID': 'C0120', 'Score': 0.3568206200700315}, {'CustomerID': 'C0173', 'Score': 0.3307592922378892}], 'C0012': [{'CustomerID': 'C0101', 'Score': 0.4437601569801833}, {'CustomerID': 'C0066', 'Score': 0.39615005477771065}, {'CustomerID': 'C0052', 'Score': 0.36706517419289875}], 'C0013': [{'CustomerID': 'C0058', 'Score': 0.5345224838248488}, {'CustomerID': 'C0040', 'Score': 0.47809144373375745}, {'CustomerID': 'C0169', 'Score': 0.4409585518440985}], 'C0014': [{'CustomerID': 'C0128', 'Score': 0.8944271909999159}, {'CustomerID': 'C0159', 'Score': 0.7844645405527362}, {'CustomerID': 'C0136', 'Score': 0.46188021535170054}], 'C0015': [{'CustomerID': 'C0073', 'Score': 0.6324555320336758}, {'CustomerID': 'C0036', 'Score': 0.6067798762169179}, {'CustomerID': 'C0059', 'Score': 0.45683219257612856}], 'C0016': [{'CustomerID': 'C0187', 'Score': 0.6449020216370241}, {'CustomerID': 'C0052', 'Score': 0.5202659817144719}, {'CustomerID': 'C0064', 'Score': 0.4611123341633879}], 'C0017': [{'CustomerID': 'C0037', 'Score': 0.3988620176087328}, {'CustomerID': 'C0071', 'Score': 0.38490017945975047}, {'CustomerID': 'C0183', 'Score': 0.34570865256115424}], 'C0018': [{'CustomerID': 'C0177', 'Score': 0.3938927711338647}, {'CustomerID': 'C0064', 'Score': 0.35665425149468194}, {'CustomerID': 'C0081', 'Score': 0.35032452487268534}], 'C0019': [{'CustomerID': 'C0083', 'Score': 0.48989794855663565}, {'CustomerID': 'C0064', 'Score': 0.4879954250643349}, {'CustomerID': 'C0039', 'Score': 0.46475800154489}], 'C0020': [{'CustomerID': 'C0026', 'Score': 0.6172133998483676}, {'CustomerID': 'C0007', 'Score': 0.5883484054145521}, {'CustomerID': 'C0104', 'Score': 0.4886777774252209}]}\n"
     ]
    }
   ],
   "source": [
    "# TASK 2: Lookalike Model\n",
    "def lookalike_model(customers, transactions):\n",
    "    # Merge datasets\n",
    "    merged = pd.merge(transactions, customers, on=\"CustomerID\", how=\"inner\")\n",
    "    merged = pd.merge(merged, products, on=\"ProductID\", how=\"inner\")\n",
    "\n",
    "    # Create pivot table for Customer-Product matrix\n",
    "    customer_product_matrix = merged.pivot_table(\n",
    "        index=\"CustomerID\", columns=\"ProductID\", values=\"Quantity\", fill_value=0\n",
    "    )\n",
    "\n",
    "    # Calculate similarity scores using cosine similarity\n",
    "    similarity_matrix = cosine_similarity(customer_product_matrix)\n",
    "    similarity_df = pd.DataFrame(\n",
    "        similarity_matrix, index=customer_product_matrix.index, columns=customer_product_matrix.index\n",
    "    )\n",
    "\n",
    "    # Get top 3 lookalikes for first 20 customers\n",
    "    lookalike_results = {}\n",
    "    for customer in similarity_df.index[:20]:\n",
    "        similar_customers = (\n",
    "            similarity_df[customer]\n",
    "            .sort_values(ascending=False)\n",
    "            .iloc[1:4]\n",
    "            .reset_index()\n",
    "            .values\n",
    "        )\n",
    "        lookalike_results[customer] = [\n",
    "            {\"CustomerID\": row[0], \"Score\": row[1]} for row in similar_customers\n",
    "        ]\n",
    "\n",
    "    print(\"\\nLookalike Results:\")\n",
    "    print(lookalike_results)\n",
    "    return lookalike_results\n",
    "\n",
    "lookalike_results = lookalike_model(customers, transactions)\n"
   ]
  },
  {
   "cell_type": "code",
   "execution_count": 12,
   "id": "39ef9710-2ff3-4cc7-89b8-57026d4b2514",
   "metadata": {},
   "outputs": [
    {
     "name": "stdout",
     "output_type": "stream",
     "text": [
      "Lookalike.csv file generated successfully!\n"
     ]
    }
   ],
   "source": [
    "from sklearn.metrics.pairwise import cosine_similarity\n",
    "\n",
    "# Assuming `customers` and `transactions` are already cleaned and loaded\n",
    "\n",
    "# Merge datasets to create a Customer-Product interaction matrix\n",
    "merged = pd.merge(transactions, customers, on=\"CustomerID\", how=\"inner\")\n",
    "merged = pd.merge(merged, products, on=\"ProductID\", how=\"inner\")\n",
    "\n",
    "# Pivot table for Customer-Product interaction matrix (CustomerID x ProductID)\n",
    "customer_product_matrix = merged.pivot_table(\n",
    "    index=\"CustomerID\", columns=\"ProductID\", values=\"Quantity\", fill_value=0\n",
    ")\n",
    "\n",
    "# Calculate similarity matrix using cosine similarity\n",
    "similarity_matrix = cosine_similarity(customer_product_matrix)\n",
    "similarity_df = pd.DataFrame(\n",
    "    similarity_matrix, index=customer_product_matrix.index, columns=customer_product_matrix.index\n",
    ")\n",
    "\n",
    "# Extract top 3 similar customers for CustomerIDs from C0001 to C0020\n",
    "lookalike_results = {}\n",
    "for customer in similarity_df.index[:20]:\n",
    "    similar_customers = (\n",
    "        similarity_df[customer]\n",
    "        .sort_values(ascending=False)  # Sort by similarity score\n",
    "        .iloc[1:4]  # Select top 3 similar customers (excluding self)\n",
    "    )\n",
    "    lookalike_results[customer] = [\n",
    "        {\"CustomerID\": sim_customer, \"Score\": score}\n",
    "        for sim_customer, score in similar_customers.items()\n",
    "    ]\n",
    "\n",
    "# Create a structured dataframe for output\n",
    "rows = []\n",
    "for customer, lookalikes in lookalike_results.items():\n",
    "    for lookalike in lookalikes:\n",
    "        rows.append({\n",
    "            \"CustomerID\": customer,\n",
    "            \"SimilarCustomerID\": lookalike[\"CustomerID\"],\n",
    "            \"SimilarityScore\": lookalike[\"Score\"]\n",
    "        })\n",
    "\n",
    "lookalike_df = pd.DataFrame(rows)\n",
    "\n",
    "# Save as CSV file\n",
    "lookalike_df.to_csv(\"FirstName_LastName_Lookalike.csv\", index=False)\n",
    "\n",
    "print(\"Lookalike.csv file generated successfully!\")\n"
   ]
  },
  {
   "cell_type": "code",
   "execution_count": null,
   "id": "12cd2d67-539a-4e5e-9ed0-409c531c6571",
   "metadata": {},
   "outputs": [],
   "source": []
  }
 ],
 "metadata": {
  "kernelspec": {
   "display_name": "Python 3 (ipykernel)",
   "language": "python",
   "name": "python3"
  },
  "language_info": {
   "codemirror_mode": {
    "name": "ipython",
    "version": 3
   },
   "file_extension": ".py",
   "mimetype": "text/x-python",
   "name": "python",
   "nbconvert_exporter": "python",
   "pygments_lexer": "ipython3",
   "version": "3.13.1"
  }
 },
 "nbformat": 4,
 "nbformat_minor": 5
}
